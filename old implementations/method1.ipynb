{
  "cells": [
    {
      "cell_type": "markdown",
      "metadata": {
        "id": "psYARLpkfBjF"
      },
      "source": [
        "# Project  TDDE09\n",
        "## Hugo Bjork || Jakob Berggren || Martin Forsberg"
      ]
    },
    {
      "cell_type": "markdown",
      "metadata": {
        "id": "FwiPZum4uix1"
      },
      "source": [
        "For this project we will need to run it on the GPU to optimize speed."
      ]
    },
    {
      "cell_type": "code",
      "execution_count": 1,
      "metadata": {
        "id": "IjZFoilkuix1"
      },
      "outputs": [],
      "source": [
        "#!pip install nltk\n",
        "import torch\n",
        "import nltk"
      ]
    },
    {
      "cell_type": "code",
      "execution_count": 2,
      "metadata": {
        "id": "NWurVptwtu8M",
        "colab": {
          "base_uri": "https://localhost:8080/"
        },
        "outputId": "6582f524-a75d-4479-d4f7-7769be7f617e"
      },
      "outputs": [
        {
          "output_type": "stream",
          "name": "stderr",
          "text": [
            "[nltk_data] Downloading package vader_lexicon to /root/nltk_data...\n"
          ]
        }
      ],
      "source": [
        "device = torch.device('cuda') if torch.cuda.is_available() else torch.device('cpu')\n",
        "\n",
        "nltk.download('vader_lexicon')\n",
        "from nltk.sentiment.vader import SentimentIntensityAnalyzer\n",
        "\n",
        "sid = SentimentIntensityAnalyzer()"
      ]
    },
    {
      "cell_type": "markdown",
      "metadata": {
        "id": "wXTrlu1-fIri"
      },
      "source": [
        "## The data"
      ]
    },
    {
      "cell_type": "markdown",
      "metadata": {
        "id": "GYP7pMf1uix4"
      },
      "source": [
        "The data used fo this project is movie reviews from Imdb. The data set consists of 50 000 reviews labeled positive or negative. Our first course of action was to slim the data set down to only the revies with less than 120 words in them. This is done in order to be able to train the model within a resonable timeframe and avoid needing to chop up the reviews into chunks due to BERTs max length of 512.\n"
      ]
    },
    {
      "cell_type": "code",
      "execution_count": 3,
      "metadata": {
        "colab": {
          "base_uri": "https://localhost:8080/"
        },
        "id": "WnjtR3s3uix4",
        "outputId": "d98a1853-584e-4106-e718-2e045240f566"
      },
      "outputs": [
        {
          "output_type": "stream",
          "name": "stdout",
          "text": [
            "(50000, 2)\n",
            "(10494, 2)\n",
            "52.81113016962073\n"
          ]
        },
        {
          "output_type": "stream",
          "name": "stderr",
          "text": [
            "<ipython-input-3-3507dc6fc8e1>:9: SettingWithCopyWarning: \n",
            "A value is trying to be set on a copy of a slice from a DataFrame.\n",
            "Try using .loc[row_indexer,col_indexer] = value instead\n",
            "\n",
            "See the caveats in the documentation: https://pandas.pydata.org/pandas-docs/stable/user_guide/indexing.html#returning-a-view-versus-a-copy\n",
            "  df['sentiment'] = df['sentiment'].map(label_map)\n"
          ]
        }
      ],
      "source": [
        "#!pip install pandas\n",
        "import pandas as pd\n",
        "\n",
        "df = pd.read_csv('imdb.csv')\n",
        "print(df.shape)\n",
        "df = df[df['review'].str.split().apply(len) <= 120]\n",
        "print(df.shape)\n",
        "label_map = {'positive': 1, 'negative': 0}\n",
        "df['sentiment'] = df['sentiment'].map(label_map)\n",
        "print((df[df['sentiment']==1].count()[0]/len(df))*100)\n",
        "\n",
        "train = df[0:int(len(df)*0.075)]\n",
        "test = df[int(len(df)*0.075):int(len(df)*0.1)]\n",
        "vadScore = [sid.polarity_scores(a) for a in train.review]"
      ]
    },
    {
      "cell_type": "markdown",
      "metadata": {
        "id": "mjMyfvzLuix5"
      },
      "source": [
        "The data is loaded and preproccessed into a smaller set of max review length of 120."
      ]
    },
    {
      "cell_type": "markdown",
      "metadata": {
        "id": "uujTxJC-uix5"
      },
      "source": [
        "Her is an example from the data set"
      ]
    },
    {
      "cell_type": "code",
      "execution_count": 4,
      "metadata": {
        "colab": {
          "base_uri": "https://localhost:8080/"
        },
        "id": "H4h9Ep3StosJ",
        "outputId": "1499c70d-c703-4c65-c599-45c6db749bee"
      },
      "outputs": [
        {
          "output_type": "execute_result",
          "data": {
            "text/plain": [
              "{'neg': 0.094, 'neu': 0.531, 'pos': 0.375, 'compound': 0.9149}"
            ]
          },
          "metadata": {},
          "execution_count": 4
        }
      ],
      "source": [
        "train.iloc[0:1,:]\n",
        "vadScore[1]"
      ]
    },
    {
      "cell_type": "code",
      "execution_count": 5,
      "metadata": {
        "id": "ufyC5VtJuix6"
      },
      "outputs": [],
      "source": [
        "def preVader(data):\n",
        "    vadScore = [sid.polarity_scores(a) for a in data.review]\n",
        "    columns = list(vadScore[0].keys())\n",
        "    tens = torch.empty(len(vadScore), len(columns)).to(device)\n",
        "\n",
        "    # All reviews for traning where columns is neg&neu&pos&comp\n",
        "    for i, score in enumerate(vadScore):\n",
        "        for j, key in enumerate(columns):\n",
        "            tens[i, j] = score[key]\n",
        "    return tens"
      ]
    },
    {
      "cell_type": "code",
      "execution_count": 6,
      "metadata": {
        "colab": {
          "base_uri": "https://localhost:8080/"
        },
        "id": "to1hvoj8uix6",
        "outputId": "0240f427-9264-40a1-ab08-06f9a7683796"
      },
      "outputs": [
        {
          "output_type": "stream",
          "name": "stdout",
          "text": [
            "tensor([[0.0170, 0.7580, 0.2250],\n",
            "        [0.0940, 0.5310, 0.3750],\n",
            "        [0.0840, 0.6960, 0.2210],\n",
            "        [0.0860, 0.7950, 0.1200]], device='cuda:0')\n"
          ]
        }
      ],
      "source": [
        "tens= preVader(train)\n",
        "print(tens[:4,:3])"
      ]
    },
    {
      "cell_type": "markdown",
      "metadata": {
        "id": "CyAo0Vv_uix6"
      },
      "source": [
        "## Baseline"
      ]
    },
    {
      "cell_type": "markdown",
      "metadata": {
        "id": "jC8OwgS8uix6"
      },
      "source": [
        "Our first task is to create our baseline by fine tuning the BERT model to our IMDB data set."
      ]
    },
    {
      "cell_type": "markdown",
      "metadata": {
        "id": "4IuPZ7c1uix7"
      },
      "source": [
        "We need two classes from the Transformers library:"
      ]
    },
    {
      "cell_type": "code",
      "execution_count": 7,
      "metadata": {
        "colab": {
          "base_uri": "https://localhost:8080/",
          "height": 683,
          "referenced_widgets": [
            "53dfa6f881744736be1b9cf614586329",
            "aa5e2563e9804a5f872ae46a83cc7acb",
            "63e524a64a994ef5b1c17bbb8da03806",
            "6c846c6907f44a42bae54c3e69473124",
            "e4b559e2ea8840cea1ec3e9c1a5bb5ea",
            "51b480828a3b469a84c9b1780d585bcd",
            "0c0898db0dd6460e8c8963301b44f37d",
            "6e710f72c1d749e182cf6881f21385ae",
            "c64f76aad7094410a607b6d3fb0e62e9",
            "d2d225adc3dc48c098000dd46b93d86b",
            "9542fa30ce5445e48ba01ec6f05ddc8a",
            "064af85f7caf492da01f1d7a1a1d1ad6",
            "e4baba1f50ad4e2ea54d86ac368529e1",
            "ab1cada8055d477291edaa6964dec4fd",
            "dd06e0104b3648ddb34288dbc2fcf904",
            "d10895cd6a50410188176395d3432cce",
            "227bc2f246a94820a4addfbb88513a04",
            "58ef5e599dec46fb9f0cca9d7e944fcb",
            "a7874a087a9f4ab6b455feb22a62afaf",
            "4301bd9c6e174297bfef071d353b3461",
            "bdef6fd9478a490583eef2a5545ace24",
            "020129ec040d44a58c8183f504f22af2",
            "d0744e4a6c1a433fafc71f5257199066",
            "7f95aac87f2e42ada1823808f84c33fa",
            "b7b5465f0c6e47809699e6727eaf250d",
            "053b723e730846e8a04cf5336e80b396",
            "469f199957b94db4aa6d275065f78abe",
            "cb6efcbcd53143619384220b62af169b",
            "88d7f39cffe2430a993d59fb87503cd0",
            "a486960cfcfe481889446ef576030e69",
            "2d181c5b5c0c451d871ad7c099b0391f",
            "383aa0eec172462893f5e65c6236de80",
            "4f183750ef864faab76b10ff028eb830",
            "f33d7d20e25e47b087ad343768737b63",
            "319fb92418234a9c99f0de6a109b84dc",
            "2683ab80081e4c36a2ccb06cb7cf350f",
            "e171e864e6ec41859a2b4ef2fb1bebf9",
            "d4183f0fe3d24af886e463101e802e08",
            "0e4843227ce64c99965ddd2c4f4afd12",
            "4d8f98812bfa4ec89313d08e0a47b45e",
            "88a8c90b871f46fc9c5fa525ad78bcbc",
            "833efdbdae7242288d30223eca687f32",
            "57e64079532f42d2b103b31ed1ff3166",
            "2df947d978434578914007853bed392d"
          ]
        },
        "id": "4xZ3x_MQvYuK",
        "outputId": "0f850649-899d-4d2d-f6b2-32dc691922dc"
      },
      "outputs": [
        {
          "output_type": "stream",
          "name": "stdout",
          "text": [
            "Looking in indexes: https://pypi.org/simple, https://us-python.pkg.dev/colab-wheels/public/simple/\n",
            "Collecting transformers\n",
            "  Downloading transformers-4.26.1-py3-none-any.whl (6.3 MB)\n",
            "\u001b[2K     \u001b[90m━━━━━━━━━━━━━━━━━━━━━━━━━━━━━━━━━━━━━━━━\u001b[0m \u001b[32m6.3/6.3 MB\u001b[0m \u001b[31m55.2 MB/s\u001b[0m eta \u001b[36m0:00:00\u001b[0m\n",
            "\u001b[?25hCollecting huggingface-hub<1.0,>=0.11.0\n",
            "  Downloading huggingface_hub-0.13.1-py3-none-any.whl (199 kB)\n",
            "\u001b[2K     \u001b[90m━━━━━━━━━━━━━━━━━━━━━━━━━━━━━━━━━━━━━━\u001b[0m \u001b[32m199.2/199.2 KB\u001b[0m \u001b[31m23.2 MB/s\u001b[0m eta \u001b[36m0:00:00\u001b[0m\n",
            "\u001b[?25hRequirement already satisfied: filelock in /usr/local/lib/python3.9/dist-packages (from transformers) (3.9.0)\n",
            "Requirement already satisfied: pyyaml>=5.1 in /usr/local/lib/python3.9/dist-packages (from transformers) (6.0)\n",
            "Collecting tokenizers!=0.11.3,<0.14,>=0.11.1\n",
            "  Downloading tokenizers-0.13.2-cp39-cp39-manylinux_2_17_x86_64.manylinux2014_x86_64.whl (7.6 MB)\n",
            "\u001b[2K     \u001b[90m━━━━━━━━━━━━━━━━━━━━━━━━━━━━━━━━━━━━━━━━\u001b[0m \u001b[32m7.6/7.6 MB\u001b[0m \u001b[31m104.9 MB/s\u001b[0m eta \u001b[36m0:00:00\u001b[0m\n",
            "\u001b[?25hRequirement already satisfied: requests in /usr/local/lib/python3.9/dist-packages (from transformers) (2.25.1)\n",
            "Requirement already satisfied: tqdm>=4.27 in /usr/local/lib/python3.9/dist-packages (from transformers) (4.65.0)\n",
            "Requirement already satisfied: numpy>=1.17 in /usr/local/lib/python3.9/dist-packages (from transformers) (1.22.4)\n",
            "Requirement already satisfied: regex!=2019.12.17 in /usr/local/lib/python3.9/dist-packages (from transformers) (2022.6.2)\n",
            "Requirement already satisfied: packaging>=20.0 in /usr/local/lib/python3.9/dist-packages (from transformers) (23.0)\n",
            "Requirement already satisfied: typing-extensions>=3.7.4.3 in /usr/local/lib/python3.9/dist-packages (from huggingface-hub<1.0,>=0.11.0->transformers) (4.5.0)\n",
            "Requirement already satisfied: idna<3,>=2.5 in /usr/local/lib/python3.9/dist-packages (from requests->transformers) (2.10)\n",
            "Requirement already satisfied: chardet<5,>=3.0.2 in /usr/local/lib/python3.9/dist-packages (from requests->transformers) (4.0.0)\n",
            "Requirement already satisfied: urllib3<1.27,>=1.21.1 in /usr/local/lib/python3.9/dist-packages (from requests->transformers) (1.26.14)\n",
            "Requirement already satisfied: certifi>=2017.4.17 in /usr/local/lib/python3.9/dist-packages (from requests->transformers) (2022.12.7)\n",
            "Installing collected packages: tokenizers, huggingface-hub, transformers\n",
            "Successfully installed huggingface-hub-0.13.1 tokenizers-0.13.2 transformers-4.26.1\n"
          ]
        },
        {
          "output_type": "display_data",
          "data": {
            "text/plain": [
              "Downloading (…)solve/main/vocab.txt:   0%|          | 0.00/232k [00:00<?, ?B/s]"
            ],
            "application/vnd.jupyter.widget-view+json": {
              "version_major": 2,
              "version_minor": 0,
              "model_id": "53dfa6f881744736be1b9cf614586329"
            }
          },
          "metadata": {}
        },
        {
          "output_type": "display_data",
          "data": {
            "text/plain": [
              "Downloading (…)okenizer_config.json:   0%|          | 0.00/28.0 [00:00<?, ?B/s]"
            ],
            "application/vnd.jupyter.widget-view+json": {
              "version_major": 2,
              "version_minor": 0,
              "model_id": "064af85f7caf492da01f1d7a1a1d1ad6"
            }
          },
          "metadata": {}
        },
        {
          "output_type": "display_data",
          "data": {
            "text/plain": [
              "Downloading (…)lve/main/config.json:   0%|          | 0.00/570 [00:00<?, ?B/s]"
            ],
            "application/vnd.jupyter.widget-view+json": {
              "version_major": 2,
              "version_minor": 0,
              "model_id": "d0744e4a6c1a433fafc71f5257199066"
            }
          },
          "metadata": {}
        },
        {
          "output_type": "display_data",
          "data": {
            "text/plain": [
              "Downloading pytorch_model.bin:   0%|          | 0.00/440M [00:00<?, ?B/s]"
            ],
            "application/vnd.jupyter.widget-view+json": {
              "version_major": 2,
              "version_minor": 0,
              "model_id": "f33d7d20e25e47b087ad343768737b63"
            }
          },
          "metadata": {}
        },
        {
          "output_type": "stream",
          "name": "stderr",
          "text": [
            "Some weights of the model checkpoint at bert-base-uncased were not used when initializing BertForSequenceClassification: ['cls.predictions.transform.LayerNorm.bias', 'cls.predictions.transform.dense.weight', 'cls.seq_relationship.weight', 'cls.predictions.decoder.weight', 'cls.predictions.transform.LayerNorm.weight', 'cls.seq_relationship.bias', 'cls.predictions.transform.dense.bias', 'cls.predictions.bias']\n",
            "- This IS expected if you are initializing BertForSequenceClassification from the checkpoint of a model trained on another task or with another architecture (e.g. initializing a BertForSequenceClassification model from a BertForPreTraining model).\n",
            "- This IS NOT expected if you are initializing BertForSequenceClassification from the checkpoint of a model that you expect to be exactly identical (initializing a BertForSequenceClassification model from a BertForSequenceClassification model).\n",
            "Some weights of BertForSequenceClassification were not initialized from the model checkpoint at bert-base-uncased and are newly initialized: ['classifier.weight', 'classifier.bias']\n",
            "You should probably TRAIN this model on a down-stream task to be able to use it for predictions and inference.\n"
          ]
        }
      ],
      "source": [
        "#!pip install transformers\n",
        "from transformers import BertTokenizer, BertForSequenceClassification\n",
        "\n",
        "#Instantiating both classes with the pre-trained bert-base-uncased model.\n",
        "tokenizer = BertTokenizer.from_pretrained('bert-base-uncased')\n",
        "model = BertForSequenceClassification.from_pretrained('bert-base-uncased').to(device)"
      ]
    },
    {
      "cell_type": "code",
      "execution_count": 47,
      "metadata": {
        "id": "bPwQouzSuix7"
      },
      "outputs": [],
      "source": [
        "import torch.nn as nn\n",
        "\n",
        "class MultilayerPerceptron(nn.Module):\n",
        "    def __init__(self, hidden_dim, output_dim):\n",
        "        super().__init__()\n",
        "        self.hidden_dim = hidden_dim\n",
        "        self.seq = nn.Sequential(\n",
        "                nn.LazyLinear(hidden_dim),\n",
        "                torch.nn.ReLU(),\n",
        "                nn.Linear(hidden_dim, output_dim),\n",
        "       )\n",
        "    def forward(self, bert, vader):\n",
        " #       print(bert.size(), \"burt\")\n",
        " #       print(vader.size(), \"vada\")\n",
        "        x = torch.cat((bert, vader), dim=1)\n",
        "#        print(x.size(), 'x-size')\n",
        "        x =  self.seq(x)\n",
        "        return x"
      ]
    },
    {
      "cell_type": "markdown",
      "metadata": {
        "id": "qbJDQlxmuix7"
      },
      "source": [
        "In the tensorize function the data is preproccessed to fit the bert modle requirements by translating the reviews to token ids, masking the padding tokens and finaly a tensor with the labels correspinding to each reviews. These are returned by a TensorDataset so it can easily be split by a dataloader."
      ]
    },
    {
      "cell_type": "code",
      "execution_count": 9,
      "metadata": {
        "id": "9DCuYESsuix8"
      },
      "outputs": [],
      "source": [
        "from torch.utils.data import TensorDataset\n",
        "\n",
        "def tensorize(reviews):\n",
        "    input_ids = []\n",
        "    labels = []\n",
        "    attention_masks = []\n",
        "    for index, rev in reviews.iterrows():\n",
        "        encoded = tokenizer.encode_plus(\n",
        "                    rev[0].split(), \n",
        "                    add_special_tokens=True, \n",
        "                    max_length=122,\n",
        "                    padding='max_length',\n",
        "                    return_attention_mask=True,\n",
        "                    return_tensors='pt', \n",
        "       )\n",
        "        input_ids.append(encoded['input_ids'])\n",
        "        attention_masks.append(encoded['attention_mask'])\n",
        "        labels.append(rev[1])\n",
        "    return TensorDataset(torch.cat(input_ids, dim=0), torch.cat(attention_masks, dim=0), torch.tensor(labels))\n"
      ]
    },
    {
      "cell_type": "markdown",
      "metadata": {
        "id": "4GlHNdHPuix8"
      },
      "source": [
        "Below I will make a dataloader class that has batch size of 32 and using list compehension pre computes all the inputs, masks and labels."
      ]
    },
    {
      "cell_type": "code",
      "execution_count": 10,
      "metadata": {
        "id": "8uXTVDoHuix8"
      },
      "outputs": [],
      "source": [
        "from torch.utils.data import DataLoader\n",
        "dataset= tensorize(train.iloc[:11,:]) \n",
        "datalord = DataLoader(dataset, batch_size=10, shuffle=True)"
      ]
    },
    {
      "cell_type": "code",
      "execution_count": 41,
      "metadata": {
        "id": "FvvIUO4iuix8"
      },
      "outputs": [],
      "source": [
        "#!pip install scikit-learn\n",
        "#!pip install tqdm\n",
        "import torch.nn.functional as F\n",
        "import torch.optim as optim\n",
        "from tqdm import tqdm\n",
        "from sklearn.metrics import confusion_matrix\n",
        "import numpy as np\n",
        "\n",
        "def train_bert(n_epochs=1, batch_size=10):\n",
        "    train = df[0:int(len(df)*0.75)]\n",
        "    test = df[int(len(df)*0.75):]\n",
        "    train = tensorize(train)\n",
        "    test = tensorize(test)\n",
        "    \n",
        "    n=len(train)\n",
        "        \n",
        "    model = BertForSequenceClassification.from_pretrained(\n",
        "    \"bert-base-uncased\", num_labels = 2, output_attentions = False, output_hidden_states = False).to(device)\n",
        "    true = 0\n",
        "    counter=0\n",
        "    size_last_batch=(len(test) % batch_size)\n",
        "    # Initialize the optimizer. Here we use Adam rather than plain SGD\n",
        "    optimizer = optim.Adam(model.parameters(), lr=1e-5)\n",
        "    model.train()\n",
        "    counter = 0\n",
        "    tot_loss=0\n",
        "    total_loss = 0\n",
        "    losses=[0]\n",
        "    for i in range(n_epochs):\n",
        "        with tqdm(total=len(list(train))) as pbar:\n",
        "            for index, batch in enumerate(DataLoader(train, batch_size, shuffle=False)): \n",
        "\n",
        "               # Reset the accumulated gradients\n",
        "                optimizer.zero_grad()\n",
        "\n",
        "                b_ids = batch[0].to(device)\n",
        "                b_mask = batch[1].to(device)\n",
        "                b_labels = batch[2].to(device)\n",
        "                \n",
        "                outputs = model(input_ids=b_ids, attention_mask=b_mask,\n",
        "                        labels=b_labels)\n",
        "                \n",
        "                loss = outputs.loss\n",
        "\n",
        "                loss.backward()\n",
        "\n",
        "                # Update the parameters of the model\n",
        "                optimizer.step()\n",
        "                \n",
        "                ## Update diagnostics\n",
        "                tot_loss+=loss.item()\n",
        "                pbar.set_postfix(loss=loss.item())\n",
        "                pbar.update(batch_size)\n",
        "                \n",
        "            model.eval()  # Sets the model to evaluation mode\n",
        "    with torch.no_grad():  # Blocks the accumulation of gradients\n",
        "        TP_FP,TP,FN, y,p=0,0,0,[],[]\n",
        "        for index, batch in enumerate(DataLoader(test, batch_size, shuffle=False)): \n",
        "            counter +=1 \n",
        "            b_ids = batch[0].to(device)\n",
        "            b_mask = batch[1].to(device)\n",
        "            b_labels = batch[2].to(device)\n",
        "            outputs = model(input_ids=b_ids, attention_mask=b_mask,\n",
        "                            labels=b_labels)\n",
        "            loss = outputs.loss\n",
        "            pred = torch.argmax(outputs[1], dim=1 )\n",
        "            TP_FP +=sum(pred==1)\n",
        "            TP+=torch.sum((pred==1) & (b_labels==1))\n",
        "            FN +=torch.sum((pred==0) & (b_labels==1))\n",
        "            true += sum(pred == b_labels)\n",
        "            y.extend(b_labels.cpu().detach().numpy())\n",
        "            p.extend(pred.cpu().detach().numpy())\n",
        "\n",
        "\n",
        "        cm = confusion_matrix(y, p)\n",
        "        Precision =TP/TP_FP\n",
        "        Recall = TP/(TP + FN)\n",
        "        F1_score=(2 * Precision * Recall)/(Precision + Recall)\n",
        "        acc = true/(((counter-1)*batch_size)+size_last_batch)\n",
        "        print(float(acc)*100, ' ACCURACY')\n",
        "        print(float(Precision)*100, ' Precision')\n",
        "        print(float(Recall)*100, ' Recall')\n",
        "        print(float(F1_score)*100, ' F1_score')\n",
        "        print(cm, 'confusion matrix')\n",
        "    return model"
      ]
    },
    {
      "cell_type": "code",
      "execution_count": 51,
      "metadata": {
        "scrolled": true,
        "colab": {
          "base_uri": "https://localhost:8080/"
        },
        "id": "mH9OCuh9uix9",
        "outputId": "d6a4c9c6-87f9-4c22-842e-cc3a6c06f7c0"
      },
      "outputs": [
        {
          "output_type": "stream",
          "name": "stderr",
          "text": [
            "Some weights of the model checkpoint at bert-base-uncased were not used when initializing BertForSequenceClassification: ['cls.predictions.transform.LayerNorm.bias', 'cls.predictions.transform.dense.weight', 'cls.seq_relationship.weight', 'cls.predictions.decoder.weight', 'cls.predictions.transform.LayerNorm.weight', 'cls.seq_relationship.bias', 'cls.predictions.transform.dense.bias', 'cls.predictions.bias']\n",
            "- This IS expected if you are initializing BertForSequenceClassification from the checkpoint of a model trained on another task or with another architecture (e.g. initializing a BertForSequenceClassification model from a BertForPreTraining model).\n",
            "- This IS NOT expected if you are initializing BertForSequenceClassification from the checkpoint of a model that you expect to be exactly identical (initializing a BertForSequenceClassification model from a BertForSequenceClassification model).\n",
            "Some weights of BertForSequenceClassification were not initialized from the model checkpoint at bert-base-uncased and are newly initialized: ['classifier.weight', 'classifier.bias']\n",
            "You should probably TRAIN this model on a down-stream task to be able to use it for predictions and inference.\n",
            "100%|██████████| 7870/7870 [02:57<00:00, 44.23it/s, loss=0.18]\n"
          ]
        },
        {
          "output_type": "stream",
          "name": "stdout",
          "text": [
            "87.80487775802612  ACCURACY\n",
            "84.73132252693176  Precision\n",
            "93.6956524848938  Recall\n",
            "88.98829817771912  F1_score\n",
            "[[1011  233]\n",
            " [  87 1293]] confusion matrix\n"
          ]
        }
      ],
      "source": [
        "bert=train_bert(n_epochs=1, batch_size=10)"
      ]
    },
    {
      "cell_type": "code",
      "execution_count": 53,
      "metadata": {
        "id": "pCJ_D43Cuix9"
      },
      "outputs": [],
      "source": [
        "#!pip install scikit-learn\n",
        "#!pip install tqdm\n",
        "import torch.nn.functional as F\n",
        "import torch.optim as optim\n",
        "from tqdm import tqdm\n",
        "from sklearn.metrics import confusion_matrix\n",
        "import numpy as np\n",
        "\n",
        "def train_mlp(bert, n_epochs=1, batch_size=10):\n",
        "\n",
        "    train = df[0:int(len(df)*0.75)]\n",
        "    vader_tr = preVader(train).to(device)\n",
        "    vad_pos = vader_tr[:, 2]\n",
        "    vad_neg = vader_tr[:, 0]\n",
        "    vader_tr = F.softmax(torch.column_stack((vad_neg, vad_pos)))\n",
        "    test = df[len(train):]\n",
        "    vader_te = preVader(test).to(device)\n",
        "    vad_pos = vader_te[:, 2]\n",
        "    vad_neg = vader_te[:, 0]\n",
        "    vader_te = F.softmax(torch.column_stack((vad_neg, vad_pos)))\n",
        "    train = tensorize(train)\n",
        "    test = tensorize(test)\n",
        "    \n",
        "    n=len(train)\n",
        "    \n",
        "    mlp = MultilayerPerceptron(250,2).to(device)\n",
        "    \n",
        "    true = 0\n",
        "    counter=0\n",
        "    size_last_batch=(len(test) % batch_size)\n",
        "    \n",
        "    # Initialize the optimizer. Here we use Adam rather than plain SGD\n",
        "    optimizer = optim.Adam(mlp.parameters(), lr=1e-5)\n",
        "    mlp.train()\n",
        "    \n",
        "    counter = 0\n",
        "    tot_loss=0\n",
        "    total_loss = 0\n",
        "    losses=[0]\n",
        "    \n",
        "    for i in range(n_epochs):\n",
        "        with tqdm(total=len(list(train))) as pbar:\n",
        "            for index, batch in enumerate(DataLoader(train, batch_size, shuffle=False)): \n",
        "\n",
        "               # Reset the accumulated gradients\n",
        "                optimizer.zero_grad()\n",
        "\n",
        "                b_ids = batch[0].to(device)\n",
        "                b_mask = batch[1].to(device)\n",
        "                b_labels = batch[2].to(device)\n",
        "                \n",
        "                outputs = bert(input_ids=b_ids, attention_mask=b_mask,\n",
        "                        labels=b_labels)\n",
        "\n",
        "                mlp_out = mlp.forward(outputs.logits, vader_tr[index*batch_size:index*batch_size+outputs.logits.size(0),:3]) \n",
        "\n",
        "                \n",
        "                loss = F.cross_entropy(mlp_out, b_labels)\n",
        "                loss.backward()\n",
        "\n",
        "                # Update the parameters of the model\n",
        "                optimizer.step()\n",
        "                \n",
        "                ## Update diagnostics\n",
        "                tot_loss+=loss.item()\n",
        "                pbar.set_postfix(loss=loss.item())\n",
        "                pbar.update(batch_size)\n",
        "                \n",
        "            mlp.eval()  # Sets the model to evaluation mode\n",
        "    with torch.no_grad():  # Blocks the accumulation of gradients\n",
        "        TP_FP,TP,FN, y,p=0,0,0,[],[]\n",
        "        for index, batch in enumerate(DataLoader(test, batch_size, shuffle=False)): \n",
        "            \n",
        "            counter +=1 \n",
        "            \n",
        "            b_ids = batch[0].to(device)\n",
        "            b_mask = batch[1].to(device)\n",
        "            b_labels = batch[2].to(device)\n",
        "            \n",
        "            outputs = bert(input_ids=b_ids, attention_mask=b_mask,\n",
        "                            labels=b_labels)\n",
        "            \n",
        "            mlp_out = mlp.forward(outputs.logits, vader_te[index*batch_size:index*batch_size+outputs.logits.size(0),:3]) \n",
        "            loss = F.cross_entropy(mlp_out, b_labels)\n",
        "            pred = torch.argmax(mlp_out, dim=1)\n",
        "            \n",
        "            TP_FP +=sum(pred==1)\n",
        "            TP+=torch.sum((pred==1) & (b_labels==1))\n",
        "            FN +=torch.sum((pred==0) & (b_labels==1))\n",
        "            true += sum(pred == b_labels)\n",
        "            y.extend(b_labels.cpu().detach().numpy())\n",
        "            p.extend(pred.cpu().detach().numpy())\n",
        "\n",
        "        cm = confusion_matrix(y, p)\n",
        "        Precision =TP/TP_FP\n",
        "        Recall = TP/(TP + FN)\n",
        "        F1_score=(2 * Precision * Recall)/(Precision + Recall)\n",
        "        acc = true/(((counter-1)*batch_size)+size_last_batch)\n",
        "        print(float(acc)*100, ' ACCURACY')\n",
        "        print(float(Precision)*100, ' Precision')\n",
        "        print(float(Recall)*100, ' Recall')\n",
        "        print(float(F1_score)*100, ' F1_score')\n",
        "        print(cm, 'confusion matrix')\n",
        "    return model"
      ]
    },
    {
      "cell_type": "code",
      "execution_count": 54,
      "metadata": {
        "colab": {
          "base_uri": "https://localhost:8080/"
        },
        "id": "922Umg2cuix9",
        "outputId": "c5a9f6e8-2dad-4a52-cbaf-1b1259998189"
      },
      "outputs": [
        {
          "output_type": "stream",
          "name": "stderr",
          "text": [
            "<ipython-input-53-6ce35b56e978>:15: UserWarning: Implicit dimension choice for softmax has been deprecated. Change the call to include dim=X as an argument.\n",
            "  vader_tr = F.softmax(torch.column_stack((vad_neg, vad_pos)))\n",
            "<ipython-input-53-6ce35b56e978>:20: UserWarning: Implicit dimension choice for softmax has been deprecated. Change the call to include dim=X as an argument.\n",
            "  vader_te = F.softmax(torch.column_stack((vad_neg, vad_pos)))\n",
            "/usr/local/lib/python3.9/dist-packages/torch/nn/modules/lazy.py:180: UserWarning: Lazy modules are a new feature under heavy development so changes to the API or functionality can happen at any moment.\n",
            "  warnings.warn('Lazy modules are a new feature under heavy development '\n",
            "100%|██████████| 7870/7870 [02:27<00:00, 53.23it/s, loss=0.255]\n"
          ]
        },
        {
          "output_type": "stream",
          "name": "stdout",
          "text": [
            "88.49084973335266  ACCURACY\n",
            "88.39031457901001  Precision\n",
            "89.92753624916077  Recall\n",
            "89.1523003578186  F1_score\n",
            "[[1081  163]\n",
            " [ 139 1241]] confusion matrix\n"
          ]
        }
      ],
      "source": [
        "mlp_model = train_mlp(bert, n_epochs=1, batch_size=10)"
      ]
    },
    {
      "cell_type": "code",
      "execution_count": null,
      "metadata": {
        "id": "QoQemrQ4uix9"
      },
      "outputs": [],
      "source": [
        "import pickle\n",
        "# Save the model to a file\n",
        "# Denna kodsnutt laddar ner modellen till report, tryck refresh i colab så ser man den, sen kan man importa till django\n",
        "with open('./model.pkl', 'wb') as f:\n",
        "    pickle.dump(model, f)"
      ]
    }
  ],
  "metadata": {
    "accelerator": "GPU",
    "colab": {
      "provenance": []
    },
    "kernelspec": {
      "display_name": "Python 3 (ipykernel)",
      "language": "python",
      "name": "python3"
    },
    "language_info": {
      "codemirror_mode": {
        "name": "ipython",
        "version": 3
      },
      "file_extension": ".py",
      "mimetype": "text/x-python",
      "name": "python",
      "nbconvert_exporter": "python",
      "pygments_lexer": "ipython3",
      "version": "3.8.16"
    },
    "widgets": {
      "application/vnd.jupyter.widget-state+json": {
        "53dfa6f881744736be1b9cf614586329": {
          "model_module": "@jupyter-widgets/controls",
          "model_name": "HBoxModel",
          "model_module_version": "1.5.0",
          "state": {
            "_dom_classes": [],
            "_model_module": "@jupyter-widgets/controls",
            "_model_module_version": "1.5.0",
            "_model_name": "HBoxModel",
            "_view_count": null,
            "_view_module": "@jupyter-widgets/controls",
            "_view_module_version": "1.5.0",
            "_view_name": "HBoxView",
            "box_style": "",
            "children": [
              "IPY_MODEL_aa5e2563e9804a5f872ae46a83cc7acb",
              "IPY_MODEL_63e524a64a994ef5b1c17bbb8da03806",
              "IPY_MODEL_6c846c6907f44a42bae54c3e69473124"
            ],
            "layout": "IPY_MODEL_e4b559e2ea8840cea1ec3e9c1a5bb5ea"
          }
        },
        "aa5e2563e9804a5f872ae46a83cc7acb": {
          "model_module": "@jupyter-widgets/controls",
          "model_name": "HTMLModel",
          "model_module_version": "1.5.0",
          "state": {
            "_dom_classes": [],
            "_model_module": "@jupyter-widgets/controls",
            "_model_module_version": "1.5.0",
            "_model_name": "HTMLModel",
            "_view_count": null,
            "_view_module": "@jupyter-widgets/controls",
            "_view_module_version": "1.5.0",
            "_view_name": "HTMLView",
            "description": "",
            "description_tooltip": null,
            "layout": "IPY_MODEL_51b480828a3b469a84c9b1780d585bcd",
            "placeholder": "​",
            "style": "IPY_MODEL_0c0898db0dd6460e8c8963301b44f37d",
            "value": "Downloading (…)solve/main/vocab.txt: 100%"
          }
        },
        "63e524a64a994ef5b1c17bbb8da03806": {
          "model_module": "@jupyter-widgets/controls",
          "model_name": "FloatProgressModel",
          "model_module_version": "1.5.0",
          "state": {
            "_dom_classes": [],
            "_model_module": "@jupyter-widgets/controls",
            "_model_module_version": "1.5.0",
            "_model_name": "FloatProgressModel",
            "_view_count": null,
            "_view_module": "@jupyter-widgets/controls",
            "_view_module_version": "1.5.0",
            "_view_name": "ProgressView",
            "bar_style": "success",
            "description": "",
            "description_tooltip": null,
            "layout": "IPY_MODEL_6e710f72c1d749e182cf6881f21385ae",
            "max": 231508,
            "min": 0,
            "orientation": "horizontal",
            "style": "IPY_MODEL_c64f76aad7094410a607b6d3fb0e62e9",
            "value": 231508
          }
        },
        "6c846c6907f44a42bae54c3e69473124": {
          "model_module": "@jupyter-widgets/controls",
          "model_name": "HTMLModel",
          "model_module_version": "1.5.0",
          "state": {
            "_dom_classes": [],
            "_model_module": "@jupyter-widgets/controls",
            "_model_module_version": "1.5.0",
            "_model_name": "HTMLModel",
            "_view_count": null,
            "_view_module": "@jupyter-widgets/controls",
            "_view_module_version": "1.5.0",
            "_view_name": "HTMLView",
            "description": "",
            "description_tooltip": null,
            "layout": "IPY_MODEL_d2d225adc3dc48c098000dd46b93d86b",
            "placeholder": "​",
            "style": "IPY_MODEL_9542fa30ce5445e48ba01ec6f05ddc8a",
            "value": " 232k/232k [00:00&lt;00:00, 1.84MB/s]"
          }
        },
        "e4b559e2ea8840cea1ec3e9c1a5bb5ea": {
          "model_module": "@jupyter-widgets/base",
          "model_name": "LayoutModel",
          "model_module_version": "1.2.0",
          "state": {
            "_model_module": "@jupyter-widgets/base",
            "_model_module_version": "1.2.0",
            "_model_name": "LayoutModel",
            "_view_count": null,
            "_view_module": "@jupyter-widgets/base",
            "_view_module_version": "1.2.0",
            "_view_name": "LayoutView",
            "align_content": null,
            "align_items": null,
            "align_self": null,
            "border": null,
            "bottom": null,
            "display": null,
            "flex": null,
            "flex_flow": null,
            "grid_area": null,
            "grid_auto_columns": null,
            "grid_auto_flow": null,
            "grid_auto_rows": null,
            "grid_column": null,
            "grid_gap": null,
            "grid_row": null,
            "grid_template_areas": null,
            "grid_template_columns": null,
            "grid_template_rows": null,
            "height": null,
            "justify_content": null,
            "justify_items": null,
            "left": null,
            "margin": null,
            "max_height": null,
            "max_width": null,
            "min_height": null,
            "min_width": null,
            "object_fit": null,
            "object_position": null,
            "order": null,
            "overflow": null,
            "overflow_x": null,
            "overflow_y": null,
            "padding": null,
            "right": null,
            "top": null,
            "visibility": null,
            "width": null
          }
        },
        "51b480828a3b469a84c9b1780d585bcd": {
          "model_module": "@jupyter-widgets/base",
          "model_name": "LayoutModel",
          "model_module_version": "1.2.0",
          "state": {
            "_model_module": "@jupyter-widgets/base",
            "_model_module_version": "1.2.0",
            "_model_name": "LayoutModel",
            "_view_count": null,
            "_view_module": "@jupyter-widgets/base",
            "_view_module_version": "1.2.0",
            "_view_name": "LayoutView",
            "align_content": null,
            "align_items": null,
            "align_self": null,
            "border": null,
            "bottom": null,
            "display": null,
            "flex": null,
            "flex_flow": null,
            "grid_area": null,
            "grid_auto_columns": null,
            "grid_auto_flow": null,
            "grid_auto_rows": null,
            "grid_column": null,
            "grid_gap": null,
            "grid_row": null,
            "grid_template_areas": null,
            "grid_template_columns": null,
            "grid_template_rows": null,
            "height": null,
            "justify_content": null,
            "justify_items": null,
            "left": null,
            "margin": null,
            "max_height": null,
            "max_width": null,
            "min_height": null,
            "min_width": null,
            "object_fit": null,
            "object_position": null,
            "order": null,
            "overflow": null,
            "overflow_x": null,
            "overflow_y": null,
            "padding": null,
            "right": null,
            "top": null,
            "visibility": null,
            "width": null
          }
        },
        "0c0898db0dd6460e8c8963301b44f37d": {
          "model_module": "@jupyter-widgets/controls",
          "model_name": "DescriptionStyleModel",
          "model_module_version": "1.5.0",
          "state": {
            "_model_module": "@jupyter-widgets/controls",
            "_model_module_version": "1.5.0",
            "_model_name": "DescriptionStyleModel",
            "_view_count": null,
            "_view_module": "@jupyter-widgets/base",
            "_view_module_version": "1.2.0",
            "_view_name": "StyleView",
            "description_width": ""
          }
        },
        "6e710f72c1d749e182cf6881f21385ae": {
          "model_module": "@jupyter-widgets/base",
          "model_name": "LayoutModel",
          "model_module_version": "1.2.0",
          "state": {
            "_model_module": "@jupyter-widgets/base",
            "_model_module_version": "1.2.0",
            "_model_name": "LayoutModel",
            "_view_count": null,
            "_view_module": "@jupyter-widgets/base",
            "_view_module_version": "1.2.0",
            "_view_name": "LayoutView",
            "align_content": null,
            "align_items": null,
            "align_self": null,
            "border": null,
            "bottom": null,
            "display": null,
            "flex": null,
            "flex_flow": null,
            "grid_area": null,
            "grid_auto_columns": null,
            "grid_auto_flow": null,
            "grid_auto_rows": null,
            "grid_column": null,
            "grid_gap": null,
            "grid_row": null,
            "grid_template_areas": null,
            "grid_template_columns": null,
            "grid_template_rows": null,
            "height": null,
            "justify_content": null,
            "justify_items": null,
            "left": null,
            "margin": null,
            "max_height": null,
            "max_width": null,
            "min_height": null,
            "min_width": null,
            "object_fit": null,
            "object_position": null,
            "order": null,
            "overflow": null,
            "overflow_x": null,
            "overflow_y": null,
            "padding": null,
            "right": null,
            "top": null,
            "visibility": null,
            "width": null
          }
        },
        "c64f76aad7094410a607b6d3fb0e62e9": {
          "model_module": "@jupyter-widgets/controls",
          "model_name": "ProgressStyleModel",
          "model_module_version": "1.5.0",
          "state": {
            "_model_module": "@jupyter-widgets/controls",
            "_model_module_version": "1.5.0",
            "_model_name": "ProgressStyleModel",
            "_view_count": null,
            "_view_module": "@jupyter-widgets/base",
            "_view_module_version": "1.2.0",
            "_view_name": "StyleView",
            "bar_color": null,
            "description_width": ""
          }
        },
        "d2d225adc3dc48c098000dd46b93d86b": {
          "model_module": "@jupyter-widgets/base",
          "model_name": "LayoutModel",
          "model_module_version": "1.2.0",
          "state": {
            "_model_module": "@jupyter-widgets/base",
            "_model_module_version": "1.2.0",
            "_model_name": "LayoutModel",
            "_view_count": null,
            "_view_module": "@jupyter-widgets/base",
            "_view_module_version": "1.2.0",
            "_view_name": "LayoutView",
            "align_content": null,
            "align_items": null,
            "align_self": null,
            "border": null,
            "bottom": null,
            "display": null,
            "flex": null,
            "flex_flow": null,
            "grid_area": null,
            "grid_auto_columns": null,
            "grid_auto_flow": null,
            "grid_auto_rows": null,
            "grid_column": null,
            "grid_gap": null,
            "grid_row": null,
            "grid_template_areas": null,
            "grid_template_columns": null,
            "grid_template_rows": null,
            "height": null,
            "justify_content": null,
            "justify_items": null,
            "left": null,
            "margin": null,
            "max_height": null,
            "max_width": null,
            "min_height": null,
            "min_width": null,
            "object_fit": null,
            "object_position": null,
            "order": null,
            "overflow": null,
            "overflow_x": null,
            "overflow_y": null,
            "padding": null,
            "right": null,
            "top": null,
            "visibility": null,
            "width": null
          }
        },
        "9542fa30ce5445e48ba01ec6f05ddc8a": {
          "model_module": "@jupyter-widgets/controls",
          "model_name": "DescriptionStyleModel",
          "model_module_version": "1.5.0",
          "state": {
            "_model_module": "@jupyter-widgets/controls",
            "_model_module_version": "1.5.0",
            "_model_name": "DescriptionStyleModel",
            "_view_count": null,
            "_view_module": "@jupyter-widgets/base",
            "_view_module_version": "1.2.0",
            "_view_name": "StyleView",
            "description_width": ""
          }
        },
        "064af85f7caf492da01f1d7a1a1d1ad6": {
          "model_module": "@jupyter-widgets/controls",
          "model_name": "HBoxModel",
          "model_module_version": "1.5.0",
          "state": {
            "_dom_classes": [],
            "_model_module": "@jupyter-widgets/controls",
            "_model_module_version": "1.5.0",
            "_model_name": "HBoxModel",
            "_view_count": null,
            "_view_module": "@jupyter-widgets/controls",
            "_view_module_version": "1.5.0",
            "_view_name": "HBoxView",
            "box_style": "",
            "children": [
              "IPY_MODEL_e4baba1f50ad4e2ea54d86ac368529e1",
              "IPY_MODEL_ab1cada8055d477291edaa6964dec4fd",
              "IPY_MODEL_dd06e0104b3648ddb34288dbc2fcf904"
            ],
            "layout": "IPY_MODEL_d10895cd6a50410188176395d3432cce"
          }
        },
        "e4baba1f50ad4e2ea54d86ac368529e1": {
          "model_module": "@jupyter-widgets/controls",
          "model_name": "HTMLModel",
          "model_module_version": "1.5.0",
          "state": {
            "_dom_classes": [],
            "_model_module": "@jupyter-widgets/controls",
            "_model_module_version": "1.5.0",
            "_model_name": "HTMLModel",
            "_view_count": null,
            "_view_module": "@jupyter-widgets/controls",
            "_view_module_version": "1.5.0",
            "_view_name": "HTMLView",
            "description": "",
            "description_tooltip": null,
            "layout": "IPY_MODEL_227bc2f246a94820a4addfbb88513a04",
            "placeholder": "​",
            "style": "IPY_MODEL_58ef5e599dec46fb9f0cca9d7e944fcb",
            "value": "Downloading (…)okenizer_config.json: 100%"
          }
        },
        "ab1cada8055d477291edaa6964dec4fd": {
          "model_module": "@jupyter-widgets/controls",
          "model_name": "FloatProgressModel",
          "model_module_version": "1.5.0",
          "state": {
            "_dom_classes": [],
            "_model_module": "@jupyter-widgets/controls",
            "_model_module_version": "1.5.0",
            "_model_name": "FloatProgressModel",
            "_view_count": null,
            "_view_module": "@jupyter-widgets/controls",
            "_view_module_version": "1.5.0",
            "_view_name": "ProgressView",
            "bar_style": "success",
            "description": "",
            "description_tooltip": null,
            "layout": "IPY_MODEL_a7874a087a9f4ab6b455feb22a62afaf",
            "max": 28,
            "min": 0,
            "orientation": "horizontal",
            "style": "IPY_MODEL_4301bd9c6e174297bfef071d353b3461",
            "value": 28
          }
        },
        "dd06e0104b3648ddb34288dbc2fcf904": {
          "model_module": "@jupyter-widgets/controls",
          "model_name": "HTMLModel",
          "model_module_version": "1.5.0",
          "state": {
            "_dom_classes": [],
            "_model_module": "@jupyter-widgets/controls",
            "_model_module_version": "1.5.0",
            "_model_name": "HTMLModel",
            "_view_count": null,
            "_view_module": "@jupyter-widgets/controls",
            "_view_module_version": "1.5.0",
            "_view_name": "HTMLView",
            "description": "",
            "description_tooltip": null,
            "layout": "IPY_MODEL_bdef6fd9478a490583eef2a5545ace24",
            "placeholder": "​",
            "style": "IPY_MODEL_020129ec040d44a58c8183f504f22af2",
            "value": " 28.0/28.0 [00:00&lt;00:00, 1.32kB/s]"
          }
        },
        "d10895cd6a50410188176395d3432cce": {
          "model_module": "@jupyter-widgets/base",
          "model_name": "LayoutModel",
          "model_module_version": "1.2.0",
          "state": {
            "_model_module": "@jupyter-widgets/base",
            "_model_module_version": "1.2.0",
            "_model_name": "LayoutModel",
            "_view_count": null,
            "_view_module": "@jupyter-widgets/base",
            "_view_module_version": "1.2.0",
            "_view_name": "LayoutView",
            "align_content": null,
            "align_items": null,
            "align_self": null,
            "border": null,
            "bottom": null,
            "display": null,
            "flex": null,
            "flex_flow": null,
            "grid_area": null,
            "grid_auto_columns": null,
            "grid_auto_flow": null,
            "grid_auto_rows": null,
            "grid_column": null,
            "grid_gap": null,
            "grid_row": null,
            "grid_template_areas": null,
            "grid_template_columns": null,
            "grid_template_rows": null,
            "height": null,
            "justify_content": null,
            "justify_items": null,
            "left": null,
            "margin": null,
            "max_height": null,
            "max_width": null,
            "min_height": null,
            "min_width": null,
            "object_fit": null,
            "object_position": null,
            "order": null,
            "overflow": null,
            "overflow_x": null,
            "overflow_y": null,
            "padding": null,
            "right": null,
            "top": null,
            "visibility": null,
            "width": null
          }
        },
        "227bc2f246a94820a4addfbb88513a04": {
          "model_module": "@jupyter-widgets/base",
          "model_name": "LayoutModel",
          "model_module_version": "1.2.0",
          "state": {
            "_model_module": "@jupyter-widgets/base",
            "_model_module_version": "1.2.0",
            "_model_name": "LayoutModel",
            "_view_count": null,
            "_view_module": "@jupyter-widgets/base",
            "_view_module_version": "1.2.0",
            "_view_name": "LayoutView",
            "align_content": null,
            "align_items": null,
            "align_self": null,
            "border": null,
            "bottom": null,
            "display": null,
            "flex": null,
            "flex_flow": null,
            "grid_area": null,
            "grid_auto_columns": null,
            "grid_auto_flow": null,
            "grid_auto_rows": null,
            "grid_column": null,
            "grid_gap": null,
            "grid_row": null,
            "grid_template_areas": null,
            "grid_template_columns": null,
            "grid_template_rows": null,
            "height": null,
            "justify_content": null,
            "justify_items": null,
            "left": null,
            "margin": null,
            "max_height": null,
            "max_width": null,
            "min_height": null,
            "min_width": null,
            "object_fit": null,
            "object_position": null,
            "order": null,
            "overflow": null,
            "overflow_x": null,
            "overflow_y": null,
            "padding": null,
            "right": null,
            "top": null,
            "visibility": null,
            "width": null
          }
        },
        "58ef5e599dec46fb9f0cca9d7e944fcb": {
          "model_module": "@jupyter-widgets/controls",
          "model_name": "DescriptionStyleModel",
          "model_module_version": "1.5.0",
          "state": {
            "_model_module": "@jupyter-widgets/controls",
            "_model_module_version": "1.5.0",
            "_model_name": "DescriptionStyleModel",
            "_view_count": null,
            "_view_module": "@jupyter-widgets/base",
            "_view_module_version": "1.2.0",
            "_view_name": "StyleView",
            "description_width": ""
          }
        },
        "a7874a087a9f4ab6b455feb22a62afaf": {
          "model_module": "@jupyter-widgets/base",
          "model_name": "LayoutModel",
          "model_module_version": "1.2.0",
          "state": {
            "_model_module": "@jupyter-widgets/base",
            "_model_module_version": "1.2.0",
            "_model_name": "LayoutModel",
            "_view_count": null,
            "_view_module": "@jupyter-widgets/base",
            "_view_module_version": "1.2.0",
            "_view_name": "LayoutView",
            "align_content": null,
            "align_items": null,
            "align_self": null,
            "border": null,
            "bottom": null,
            "display": null,
            "flex": null,
            "flex_flow": null,
            "grid_area": null,
            "grid_auto_columns": null,
            "grid_auto_flow": null,
            "grid_auto_rows": null,
            "grid_column": null,
            "grid_gap": null,
            "grid_row": null,
            "grid_template_areas": null,
            "grid_template_columns": null,
            "grid_template_rows": null,
            "height": null,
            "justify_content": null,
            "justify_items": null,
            "left": null,
            "margin": null,
            "max_height": null,
            "max_width": null,
            "min_height": null,
            "min_width": null,
            "object_fit": null,
            "object_position": null,
            "order": null,
            "overflow": null,
            "overflow_x": null,
            "overflow_y": null,
            "padding": null,
            "right": null,
            "top": null,
            "visibility": null,
            "width": null
          }
        },
        "4301bd9c6e174297bfef071d353b3461": {
          "model_module": "@jupyter-widgets/controls",
          "model_name": "ProgressStyleModel",
          "model_module_version": "1.5.0",
          "state": {
            "_model_module": "@jupyter-widgets/controls",
            "_model_module_version": "1.5.0",
            "_model_name": "ProgressStyleModel",
            "_view_count": null,
            "_view_module": "@jupyter-widgets/base",
            "_view_module_version": "1.2.0",
            "_view_name": "StyleView",
            "bar_color": null,
            "description_width": ""
          }
        },
        "bdef6fd9478a490583eef2a5545ace24": {
          "model_module": "@jupyter-widgets/base",
          "model_name": "LayoutModel",
          "model_module_version": "1.2.0",
          "state": {
            "_model_module": "@jupyter-widgets/base",
            "_model_module_version": "1.2.0",
            "_model_name": "LayoutModel",
            "_view_count": null,
            "_view_module": "@jupyter-widgets/base",
            "_view_module_version": "1.2.0",
            "_view_name": "LayoutView",
            "align_content": null,
            "align_items": null,
            "align_self": null,
            "border": null,
            "bottom": null,
            "display": null,
            "flex": null,
            "flex_flow": null,
            "grid_area": null,
            "grid_auto_columns": null,
            "grid_auto_flow": null,
            "grid_auto_rows": null,
            "grid_column": null,
            "grid_gap": null,
            "grid_row": null,
            "grid_template_areas": null,
            "grid_template_columns": null,
            "grid_template_rows": null,
            "height": null,
            "justify_content": null,
            "justify_items": null,
            "left": null,
            "margin": null,
            "max_height": null,
            "max_width": null,
            "min_height": null,
            "min_width": null,
            "object_fit": null,
            "object_position": null,
            "order": null,
            "overflow": null,
            "overflow_x": null,
            "overflow_y": null,
            "padding": null,
            "right": null,
            "top": null,
            "visibility": null,
            "width": null
          }
        },
        "020129ec040d44a58c8183f504f22af2": {
          "model_module": "@jupyter-widgets/controls",
          "model_name": "DescriptionStyleModel",
          "model_module_version": "1.5.0",
          "state": {
            "_model_module": "@jupyter-widgets/controls",
            "_model_module_version": "1.5.0",
            "_model_name": "DescriptionStyleModel",
            "_view_count": null,
            "_view_module": "@jupyter-widgets/base",
            "_view_module_version": "1.2.0",
            "_view_name": "StyleView",
            "description_width": ""
          }
        },
        "d0744e4a6c1a433fafc71f5257199066": {
          "model_module": "@jupyter-widgets/controls",
          "model_name": "HBoxModel",
          "model_module_version": "1.5.0",
          "state": {
            "_dom_classes": [],
            "_model_module": "@jupyter-widgets/controls",
            "_model_module_version": "1.5.0",
            "_model_name": "HBoxModel",
            "_view_count": null,
            "_view_module": "@jupyter-widgets/controls",
            "_view_module_version": "1.5.0",
            "_view_name": "HBoxView",
            "box_style": "",
            "children": [
              "IPY_MODEL_7f95aac87f2e42ada1823808f84c33fa",
              "IPY_MODEL_b7b5465f0c6e47809699e6727eaf250d",
              "IPY_MODEL_053b723e730846e8a04cf5336e80b396"
            ],
            "layout": "IPY_MODEL_469f199957b94db4aa6d275065f78abe"
          }
        },
        "7f95aac87f2e42ada1823808f84c33fa": {
          "model_module": "@jupyter-widgets/controls",
          "model_name": "HTMLModel",
          "model_module_version": "1.5.0",
          "state": {
            "_dom_classes": [],
            "_model_module": "@jupyter-widgets/controls",
            "_model_module_version": "1.5.0",
            "_model_name": "HTMLModel",
            "_view_count": null,
            "_view_module": "@jupyter-widgets/controls",
            "_view_module_version": "1.5.0",
            "_view_name": "HTMLView",
            "description": "",
            "description_tooltip": null,
            "layout": "IPY_MODEL_cb6efcbcd53143619384220b62af169b",
            "placeholder": "​",
            "style": "IPY_MODEL_88d7f39cffe2430a993d59fb87503cd0",
            "value": "Downloading (…)lve/main/config.json: 100%"
          }
        },
        "b7b5465f0c6e47809699e6727eaf250d": {
          "model_module": "@jupyter-widgets/controls",
          "model_name": "FloatProgressModel",
          "model_module_version": "1.5.0",
          "state": {
            "_dom_classes": [],
            "_model_module": "@jupyter-widgets/controls",
            "_model_module_version": "1.5.0",
            "_model_name": "FloatProgressModel",
            "_view_count": null,
            "_view_module": "@jupyter-widgets/controls",
            "_view_module_version": "1.5.0",
            "_view_name": "ProgressView",
            "bar_style": "success",
            "description": "",
            "description_tooltip": null,
            "layout": "IPY_MODEL_a486960cfcfe481889446ef576030e69",
            "max": 570,
            "min": 0,
            "orientation": "horizontal",
            "style": "IPY_MODEL_2d181c5b5c0c451d871ad7c099b0391f",
            "value": 570
          }
        },
        "053b723e730846e8a04cf5336e80b396": {
          "model_module": "@jupyter-widgets/controls",
          "model_name": "HTMLModel",
          "model_module_version": "1.5.0",
          "state": {
            "_dom_classes": [],
            "_model_module": "@jupyter-widgets/controls",
            "_model_module_version": "1.5.0",
            "_model_name": "HTMLModel",
            "_view_count": null,
            "_view_module": "@jupyter-widgets/controls",
            "_view_module_version": "1.5.0",
            "_view_name": "HTMLView",
            "description": "",
            "description_tooltip": null,
            "layout": "IPY_MODEL_383aa0eec172462893f5e65c6236de80",
            "placeholder": "​",
            "style": "IPY_MODEL_4f183750ef864faab76b10ff028eb830",
            "value": " 570/570 [00:00&lt;00:00, 19.9kB/s]"
          }
        },
        "469f199957b94db4aa6d275065f78abe": {
          "model_module": "@jupyter-widgets/base",
          "model_name": "LayoutModel",
          "model_module_version": "1.2.0",
          "state": {
            "_model_module": "@jupyter-widgets/base",
            "_model_module_version": "1.2.0",
            "_model_name": "LayoutModel",
            "_view_count": null,
            "_view_module": "@jupyter-widgets/base",
            "_view_module_version": "1.2.0",
            "_view_name": "LayoutView",
            "align_content": null,
            "align_items": null,
            "align_self": null,
            "border": null,
            "bottom": null,
            "display": null,
            "flex": null,
            "flex_flow": null,
            "grid_area": null,
            "grid_auto_columns": null,
            "grid_auto_flow": null,
            "grid_auto_rows": null,
            "grid_column": null,
            "grid_gap": null,
            "grid_row": null,
            "grid_template_areas": null,
            "grid_template_columns": null,
            "grid_template_rows": null,
            "height": null,
            "justify_content": null,
            "justify_items": null,
            "left": null,
            "margin": null,
            "max_height": null,
            "max_width": null,
            "min_height": null,
            "min_width": null,
            "object_fit": null,
            "object_position": null,
            "order": null,
            "overflow": null,
            "overflow_x": null,
            "overflow_y": null,
            "padding": null,
            "right": null,
            "top": null,
            "visibility": null,
            "width": null
          }
        },
        "cb6efcbcd53143619384220b62af169b": {
          "model_module": "@jupyter-widgets/base",
          "model_name": "LayoutModel",
          "model_module_version": "1.2.0",
          "state": {
            "_model_module": "@jupyter-widgets/base",
            "_model_module_version": "1.2.0",
            "_model_name": "LayoutModel",
            "_view_count": null,
            "_view_module": "@jupyter-widgets/base",
            "_view_module_version": "1.2.0",
            "_view_name": "LayoutView",
            "align_content": null,
            "align_items": null,
            "align_self": null,
            "border": null,
            "bottom": null,
            "display": null,
            "flex": null,
            "flex_flow": null,
            "grid_area": null,
            "grid_auto_columns": null,
            "grid_auto_flow": null,
            "grid_auto_rows": null,
            "grid_column": null,
            "grid_gap": null,
            "grid_row": null,
            "grid_template_areas": null,
            "grid_template_columns": null,
            "grid_template_rows": null,
            "height": null,
            "justify_content": null,
            "justify_items": null,
            "left": null,
            "margin": null,
            "max_height": null,
            "max_width": null,
            "min_height": null,
            "min_width": null,
            "object_fit": null,
            "object_position": null,
            "order": null,
            "overflow": null,
            "overflow_x": null,
            "overflow_y": null,
            "padding": null,
            "right": null,
            "top": null,
            "visibility": null,
            "width": null
          }
        },
        "88d7f39cffe2430a993d59fb87503cd0": {
          "model_module": "@jupyter-widgets/controls",
          "model_name": "DescriptionStyleModel",
          "model_module_version": "1.5.0",
          "state": {
            "_model_module": "@jupyter-widgets/controls",
            "_model_module_version": "1.5.0",
            "_model_name": "DescriptionStyleModel",
            "_view_count": null,
            "_view_module": "@jupyter-widgets/base",
            "_view_module_version": "1.2.0",
            "_view_name": "StyleView",
            "description_width": ""
          }
        },
        "a486960cfcfe481889446ef576030e69": {
          "model_module": "@jupyter-widgets/base",
          "model_name": "LayoutModel",
          "model_module_version": "1.2.0",
          "state": {
            "_model_module": "@jupyter-widgets/base",
            "_model_module_version": "1.2.0",
            "_model_name": "LayoutModel",
            "_view_count": null,
            "_view_module": "@jupyter-widgets/base",
            "_view_module_version": "1.2.0",
            "_view_name": "LayoutView",
            "align_content": null,
            "align_items": null,
            "align_self": null,
            "border": null,
            "bottom": null,
            "display": null,
            "flex": null,
            "flex_flow": null,
            "grid_area": null,
            "grid_auto_columns": null,
            "grid_auto_flow": null,
            "grid_auto_rows": null,
            "grid_column": null,
            "grid_gap": null,
            "grid_row": null,
            "grid_template_areas": null,
            "grid_template_columns": null,
            "grid_template_rows": null,
            "height": null,
            "justify_content": null,
            "justify_items": null,
            "left": null,
            "margin": null,
            "max_height": null,
            "max_width": null,
            "min_height": null,
            "min_width": null,
            "object_fit": null,
            "object_position": null,
            "order": null,
            "overflow": null,
            "overflow_x": null,
            "overflow_y": null,
            "padding": null,
            "right": null,
            "top": null,
            "visibility": null,
            "width": null
          }
        },
        "2d181c5b5c0c451d871ad7c099b0391f": {
          "model_module": "@jupyter-widgets/controls",
          "model_name": "ProgressStyleModel",
          "model_module_version": "1.5.0",
          "state": {
            "_model_module": "@jupyter-widgets/controls",
            "_model_module_version": "1.5.0",
            "_model_name": "ProgressStyleModel",
            "_view_count": null,
            "_view_module": "@jupyter-widgets/base",
            "_view_module_version": "1.2.0",
            "_view_name": "StyleView",
            "bar_color": null,
            "description_width": ""
          }
        },
        "383aa0eec172462893f5e65c6236de80": {
          "model_module": "@jupyter-widgets/base",
          "model_name": "LayoutModel",
          "model_module_version": "1.2.0",
          "state": {
            "_model_module": "@jupyter-widgets/base",
            "_model_module_version": "1.2.0",
            "_model_name": "LayoutModel",
            "_view_count": null,
            "_view_module": "@jupyter-widgets/base",
            "_view_module_version": "1.2.0",
            "_view_name": "LayoutView",
            "align_content": null,
            "align_items": null,
            "align_self": null,
            "border": null,
            "bottom": null,
            "display": null,
            "flex": null,
            "flex_flow": null,
            "grid_area": null,
            "grid_auto_columns": null,
            "grid_auto_flow": null,
            "grid_auto_rows": null,
            "grid_column": null,
            "grid_gap": null,
            "grid_row": null,
            "grid_template_areas": null,
            "grid_template_columns": null,
            "grid_template_rows": null,
            "height": null,
            "justify_content": null,
            "justify_items": null,
            "left": null,
            "margin": null,
            "max_height": null,
            "max_width": null,
            "min_height": null,
            "min_width": null,
            "object_fit": null,
            "object_position": null,
            "order": null,
            "overflow": null,
            "overflow_x": null,
            "overflow_y": null,
            "padding": null,
            "right": null,
            "top": null,
            "visibility": null,
            "width": null
          }
        },
        "4f183750ef864faab76b10ff028eb830": {
          "model_module": "@jupyter-widgets/controls",
          "model_name": "DescriptionStyleModel",
          "model_module_version": "1.5.0",
          "state": {
            "_model_module": "@jupyter-widgets/controls",
            "_model_module_version": "1.5.0",
            "_model_name": "DescriptionStyleModel",
            "_view_count": null,
            "_view_module": "@jupyter-widgets/base",
            "_view_module_version": "1.2.0",
            "_view_name": "StyleView",
            "description_width": ""
          }
        },
        "f33d7d20e25e47b087ad343768737b63": {
          "model_module": "@jupyter-widgets/controls",
          "model_name": "HBoxModel",
          "model_module_version": "1.5.0",
          "state": {
            "_dom_classes": [],
            "_model_module": "@jupyter-widgets/controls",
            "_model_module_version": "1.5.0",
            "_model_name": "HBoxModel",
            "_view_count": null,
            "_view_module": "@jupyter-widgets/controls",
            "_view_module_version": "1.5.0",
            "_view_name": "HBoxView",
            "box_style": "",
            "children": [
              "IPY_MODEL_319fb92418234a9c99f0de6a109b84dc",
              "IPY_MODEL_2683ab80081e4c36a2ccb06cb7cf350f",
              "IPY_MODEL_e171e864e6ec41859a2b4ef2fb1bebf9"
            ],
            "layout": "IPY_MODEL_d4183f0fe3d24af886e463101e802e08"
          }
        },
        "319fb92418234a9c99f0de6a109b84dc": {
          "model_module": "@jupyter-widgets/controls",
          "model_name": "HTMLModel",
          "model_module_version": "1.5.0",
          "state": {
            "_dom_classes": [],
            "_model_module": "@jupyter-widgets/controls",
            "_model_module_version": "1.5.0",
            "_model_name": "HTMLModel",
            "_view_count": null,
            "_view_module": "@jupyter-widgets/controls",
            "_view_module_version": "1.5.0",
            "_view_name": "HTMLView",
            "description": "",
            "description_tooltip": null,
            "layout": "IPY_MODEL_0e4843227ce64c99965ddd2c4f4afd12",
            "placeholder": "​",
            "style": "IPY_MODEL_4d8f98812bfa4ec89313d08e0a47b45e",
            "value": "Downloading pytorch_model.bin: 100%"
          }
        },
        "2683ab80081e4c36a2ccb06cb7cf350f": {
          "model_module": "@jupyter-widgets/controls",
          "model_name": "FloatProgressModel",
          "model_module_version": "1.5.0",
          "state": {
            "_dom_classes": [],
            "_model_module": "@jupyter-widgets/controls",
            "_model_module_version": "1.5.0",
            "_model_name": "FloatProgressModel",
            "_view_count": null,
            "_view_module": "@jupyter-widgets/controls",
            "_view_module_version": "1.5.0",
            "_view_name": "ProgressView",
            "bar_style": "success",
            "description": "",
            "description_tooltip": null,
            "layout": "IPY_MODEL_88a8c90b871f46fc9c5fa525ad78bcbc",
            "max": 440473133,
            "min": 0,
            "orientation": "horizontal",
            "style": "IPY_MODEL_833efdbdae7242288d30223eca687f32",
            "value": 440473133
          }
        },
        "e171e864e6ec41859a2b4ef2fb1bebf9": {
          "model_module": "@jupyter-widgets/controls",
          "model_name": "HTMLModel",
          "model_module_version": "1.5.0",
          "state": {
            "_dom_classes": [],
            "_model_module": "@jupyter-widgets/controls",
            "_model_module_version": "1.5.0",
            "_model_name": "HTMLModel",
            "_view_count": null,
            "_view_module": "@jupyter-widgets/controls",
            "_view_module_version": "1.5.0",
            "_view_name": "HTMLView",
            "description": "",
            "description_tooltip": null,
            "layout": "IPY_MODEL_57e64079532f42d2b103b31ed1ff3166",
            "placeholder": "​",
            "style": "IPY_MODEL_2df947d978434578914007853bed392d",
            "value": " 440M/440M [00:02&lt;00:00, 183MB/s]"
          }
        },
        "d4183f0fe3d24af886e463101e802e08": {
          "model_module": "@jupyter-widgets/base",
          "model_name": "LayoutModel",
          "model_module_version": "1.2.0",
          "state": {
            "_model_module": "@jupyter-widgets/base",
            "_model_module_version": "1.2.0",
            "_model_name": "LayoutModel",
            "_view_count": null,
            "_view_module": "@jupyter-widgets/base",
            "_view_module_version": "1.2.0",
            "_view_name": "LayoutView",
            "align_content": null,
            "align_items": null,
            "align_self": null,
            "border": null,
            "bottom": null,
            "display": null,
            "flex": null,
            "flex_flow": null,
            "grid_area": null,
            "grid_auto_columns": null,
            "grid_auto_flow": null,
            "grid_auto_rows": null,
            "grid_column": null,
            "grid_gap": null,
            "grid_row": null,
            "grid_template_areas": null,
            "grid_template_columns": null,
            "grid_template_rows": null,
            "height": null,
            "justify_content": null,
            "justify_items": null,
            "left": null,
            "margin": null,
            "max_height": null,
            "max_width": null,
            "min_height": null,
            "min_width": null,
            "object_fit": null,
            "object_position": null,
            "order": null,
            "overflow": null,
            "overflow_x": null,
            "overflow_y": null,
            "padding": null,
            "right": null,
            "top": null,
            "visibility": null,
            "width": null
          }
        },
        "0e4843227ce64c99965ddd2c4f4afd12": {
          "model_module": "@jupyter-widgets/base",
          "model_name": "LayoutModel",
          "model_module_version": "1.2.0",
          "state": {
            "_model_module": "@jupyter-widgets/base",
            "_model_module_version": "1.2.0",
            "_model_name": "LayoutModel",
            "_view_count": null,
            "_view_module": "@jupyter-widgets/base",
            "_view_module_version": "1.2.0",
            "_view_name": "LayoutView",
            "align_content": null,
            "align_items": null,
            "align_self": null,
            "border": null,
            "bottom": null,
            "display": null,
            "flex": null,
            "flex_flow": null,
            "grid_area": null,
            "grid_auto_columns": null,
            "grid_auto_flow": null,
            "grid_auto_rows": null,
            "grid_column": null,
            "grid_gap": null,
            "grid_row": null,
            "grid_template_areas": null,
            "grid_template_columns": null,
            "grid_template_rows": null,
            "height": null,
            "justify_content": null,
            "justify_items": null,
            "left": null,
            "margin": null,
            "max_height": null,
            "max_width": null,
            "min_height": null,
            "min_width": null,
            "object_fit": null,
            "object_position": null,
            "order": null,
            "overflow": null,
            "overflow_x": null,
            "overflow_y": null,
            "padding": null,
            "right": null,
            "top": null,
            "visibility": null,
            "width": null
          }
        },
        "4d8f98812bfa4ec89313d08e0a47b45e": {
          "model_module": "@jupyter-widgets/controls",
          "model_name": "DescriptionStyleModel",
          "model_module_version": "1.5.0",
          "state": {
            "_model_module": "@jupyter-widgets/controls",
            "_model_module_version": "1.5.0",
            "_model_name": "DescriptionStyleModel",
            "_view_count": null,
            "_view_module": "@jupyter-widgets/base",
            "_view_module_version": "1.2.0",
            "_view_name": "StyleView",
            "description_width": ""
          }
        },
        "88a8c90b871f46fc9c5fa525ad78bcbc": {
          "model_module": "@jupyter-widgets/base",
          "model_name": "LayoutModel",
          "model_module_version": "1.2.0",
          "state": {
            "_model_module": "@jupyter-widgets/base",
            "_model_module_version": "1.2.0",
            "_model_name": "LayoutModel",
            "_view_count": null,
            "_view_module": "@jupyter-widgets/base",
            "_view_module_version": "1.2.0",
            "_view_name": "LayoutView",
            "align_content": null,
            "align_items": null,
            "align_self": null,
            "border": null,
            "bottom": null,
            "display": null,
            "flex": null,
            "flex_flow": null,
            "grid_area": null,
            "grid_auto_columns": null,
            "grid_auto_flow": null,
            "grid_auto_rows": null,
            "grid_column": null,
            "grid_gap": null,
            "grid_row": null,
            "grid_template_areas": null,
            "grid_template_columns": null,
            "grid_template_rows": null,
            "height": null,
            "justify_content": null,
            "justify_items": null,
            "left": null,
            "margin": null,
            "max_height": null,
            "max_width": null,
            "min_height": null,
            "min_width": null,
            "object_fit": null,
            "object_position": null,
            "order": null,
            "overflow": null,
            "overflow_x": null,
            "overflow_y": null,
            "padding": null,
            "right": null,
            "top": null,
            "visibility": null,
            "width": null
          }
        },
        "833efdbdae7242288d30223eca687f32": {
          "model_module": "@jupyter-widgets/controls",
          "model_name": "ProgressStyleModel",
          "model_module_version": "1.5.0",
          "state": {
            "_model_module": "@jupyter-widgets/controls",
            "_model_module_version": "1.5.0",
            "_model_name": "ProgressStyleModel",
            "_view_count": null,
            "_view_module": "@jupyter-widgets/base",
            "_view_module_version": "1.2.0",
            "_view_name": "StyleView",
            "bar_color": null,
            "description_width": ""
          }
        },
        "57e64079532f42d2b103b31ed1ff3166": {
          "model_module": "@jupyter-widgets/base",
          "model_name": "LayoutModel",
          "model_module_version": "1.2.0",
          "state": {
            "_model_module": "@jupyter-widgets/base",
            "_model_module_version": "1.2.0",
            "_model_name": "LayoutModel",
            "_view_count": null,
            "_view_module": "@jupyter-widgets/base",
            "_view_module_version": "1.2.0",
            "_view_name": "LayoutView",
            "align_content": null,
            "align_items": null,
            "align_self": null,
            "border": null,
            "bottom": null,
            "display": null,
            "flex": null,
            "flex_flow": null,
            "grid_area": null,
            "grid_auto_columns": null,
            "grid_auto_flow": null,
            "grid_auto_rows": null,
            "grid_column": null,
            "grid_gap": null,
            "grid_row": null,
            "grid_template_areas": null,
            "grid_template_columns": null,
            "grid_template_rows": null,
            "height": null,
            "justify_content": null,
            "justify_items": null,
            "left": null,
            "margin": null,
            "max_height": null,
            "max_width": null,
            "min_height": null,
            "min_width": null,
            "object_fit": null,
            "object_position": null,
            "order": null,
            "overflow": null,
            "overflow_x": null,
            "overflow_y": null,
            "padding": null,
            "right": null,
            "top": null,
            "visibility": null,
            "width": null
          }
        },
        "2df947d978434578914007853bed392d": {
          "model_module": "@jupyter-widgets/controls",
          "model_name": "DescriptionStyleModel",
          "model_module_version": "1.5.0",
          "state": {
            "_model_module": "@jupyter-widgets/controls",
            "_model_module_version": "1.5.0",
            "_model_name": "DescriptionStyleModel",
            "_view_count": null,
            "_view_module": "@jupyter-widgets/base",
            "_view_module_version": "1.2.0",
            "_view_name": "StyleView",
            "description_width": ""
          }
        }
      }
    }
  },
  "nbformat": 4,
  "nbformat_minor": 0
}