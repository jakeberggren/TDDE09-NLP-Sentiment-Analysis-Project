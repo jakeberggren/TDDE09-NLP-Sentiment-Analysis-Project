{
 "cells": [
  {
   "cell_type": "code",
   "execution_count": 2,
   "metadata": {
    "colab": {
     "base_uri": "https://localhost:8080/"
    },
    "id": "20qS2_qWE0Me",
    "outputId": "9c6a006d-fcf2-48e5-b973-3d1bbc61ca2d"
   },
   "outputs": [
    {
     "name": "stderr",
     "output_type": "stream",
     "text": [
      "[nltk_data] Downloading package vader_lexicon to\n",
      "[nltk_data]     /Users/jakobberggren/nltk_data...\n",
      "[nltk_data]   Package vader_lexicon is already up-to-date!\n"
     ]
    }
   ],
   "source": [
    "import nltk\n",
    "import torch\n",
    "nltk.download('vader_lexicon')\n",
    "from nltk.sentiment.vader import SentimentIntensityAnalyzer\n",
    "\n",
    "sid = SentimentIntensityAnalyzer()\n",
    "\n",
    "device = torch.device('cuda') if torch.cuda.is_available() else torch.device('cpu')"
   ]
  },
  {
   "cell_type": "code",
   "execution_count": 3,
   "metadata": {
    "colab": {
     "base_uri": "https://localhost:8080/"
    },
    "id": "XmYSYFJCFjdX",
    "outputId": "bbb58cdf-f4ab-468f-f793-e8fd670b1425"
   },
   "outputs": [
    {
     "name": "stdout",
     "output_type": "stream",
     "text": [
      "(50000, 2)\n",
      "(35208, 2)\n"
     ]
    }
   ],
   "source": [
    "import pandas as pd\n",
    "\n",
    "df = pd.read_csv('imdb.csv')\n",
    "print(df.shape)\n",
    "df = df[df['review'].str.split().apply(len) <= 250]\n",
    "print(df.shape)\n",
    "label_map = {'positive': 1, 'negative': 0}\n",
    "df['sentiment'] = df['sentiment'].map(label_map)\n",
    "\n",
    "train = df[0:int(len(df)*0.75)]\n",
    "test = df[int(len(df)*0.75):int(len(df))]"
   ]
  },
  {
   "cell_type": "code",
   "execution_count": 4,
   "metadata": {
    "id": "YVwV59jKGdl8"
   },
   "outputs": [],
   "source": [
    "vadScore = [sid.polarity_scores(a) for a in train.review]"
   ]
  },
  {
   "cell_type": "code",
   "execution_count": 5,
   "metadata": {
    "colab": {
     "base_uri": "https://localhost:8080/"
    },
    "id": "v3pIhkxhHpTm",
    "outputId": "a42326d9-2b4d-4bf4-bb54-167fef9ea5a2"
   },
   "outputs": [
    {
     "data": {
      "text/plain": [
       "{'neg': 0.094, 'neu': 0.714, 'pos': 0.192, 'compound': 0.9605}"
      ]
     },
     "execution_count": 5,
     "metadata": {},
     "output_type": "execute_result"
    }
   ],
   "source": [
    "vadScore[1]"
   ]
  },
  {
   "cell_type": "code",
   "execution_count": 6,
   "metadata": {
    "id": "uw3xNMvZNQzl"
   },
   "outputs": [],
   "source": [
    "columns = list(vadScore[0].keys())\n",
    "tens = torch.empty(len(vadScore), len(columns)).to(device)\n",
    "\n",
    "for i, score in enumerate(vadScore):\n",
    "    for j, key in enumerate(columns):\n",
    "        tens[i, j] = score[key]"
   ]
  }
 ],
 "metadata": {
  "colab": {
   "provenance": []
  },
  "kernelspec": {
   "display_name": "Python 3 (ipykernel)",
   "language": "python",
   "name": "python3"
  },
  "language_info": {
   "codemirror_mode": {
    "name": "ipython",
    "version": 3
   },
   "file_extension": ".py",
   "mimetype": "text/x-python",
   "name": "python",
   "nbconvert_exporter": "python",
   "pygments_lexer": "ipython3",
   "version": "3.8.16"
  }
 },
 "nbformat": 4,
 "nbformat_minor": 1
}
